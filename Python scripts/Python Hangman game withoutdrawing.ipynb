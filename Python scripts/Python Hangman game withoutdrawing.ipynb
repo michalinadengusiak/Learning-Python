{
 "cells": [
  {
   "cell_type": "code",
   "execution_count": 17,
   "metadata": {},
   "outputs": [],
   "source": [
    "# Here importing library time and setting variables\n",
    "import time\n",
    "word = \"secretword\" \n",
    "guesses = ''\n",
    "turns = 13"
   ]
  },
  {
   "cell_type": "code",
   "execution_count": 18,
   "metadata": {},
   "outputs": [
    {
     "name": "stdout",
     "output_type": "stream",
     "text": [
      "What is your name ? Michalina\n",
      "Hello Michalina ! It is time for a hangman game!\n"
     ]
    }
   ],
   "source": [
    "# Asking input and welcoming user \n",
    "Name = input(\"What is your name ? \",) \n",
    "print(\"Hello\", Name , \"! It is time for a hangman game!\")"
   ]
  },
  {
   "cell_type": "code",
   "execution_count": 19,
   "metadata": {},
   "outputs": [
    {
     "name": "stdout",
     "output_type": "stream",
     "text": [
      "Start guessing...\n"
     ]
    }
   ],
   "source": [
    "# Giving time user to guess\n",
    "time.sleep(1)\n",
    "print(\"Start guessing...\")\n",
    "time.sleep(0.2)"
   ]
  },
  {
   "cell_type": "code",
   "execution_count": 20,
   "metadata": {},
   "outputs": [
    {
     "name": "stdout",
     "output_type": "stream",
     "text": [
      "_\n",
      "_\n",
      "_\n",
      "_\n",
      "_\n",
      "_\n",
      "_\n",
      "_\n",
      "_\n",
      "_\n",
      "Please give in a character,s\n",
      "s\n",
      "_\n",
      "_\n",
      "_\n",
      "_\n",
      "_\n",
      "_\n",
      "_\n",
      "_\n",
      "_\n",
      "Please give in a character,e\n",
      "s\n",
      "e\n",
      "_\n",
      "_\n",
      "e\n",
      "_\n",
      "_\n",
      "_\n",
      "_\n",
      "_\n",
      "Please give in a character,k\n",
      "Wrong!\n",
      "You have 12 turns\n",
      "s\n",
      "e\n",
      "_\n",
      "_\n",
      "e\n",
      "_\n",
      "_\n",
      "_\n",
      "_\n",
      "_\n",
      "Please give in a character,c\n",
      "s\n",
      "e\n",
      "c\n",
      "_\n",
      "e\n",
      "_\n",
      "_\n",
      "_\n",
      "_\n",
      "_\n",
      "Please give in a character,t\n",
      "s\n",
      "e\n",
      "c\n",
      "_\n",
      "e\n",
      "t\n",
      "_\n",
      "_\n",
      "_\n",
      "_\n",
      "Please give in a character,w\n",
      "s\n",
      "e\n",
      "c\n",
      "_\n",
      "e\n",
      "t\n",
      "w\n",
      "_\n",
      "_\n",
      "_\n",
      "Please give in a character,o\n",
      "s\n",
      "e\n",
      "c\n",
      "_\n",
      "e\n",
      "t\n",
      "w\n",
      "o\n",
      "_\n",
      "_\n",
      "Please give in a character,r\n",
      "s\n",
      "e\n",
      "c\n",
      "r\n",
      "e\n",
      "t\n",
      "w\n",
      "o\n",
      "r\n",
      "_\n",
      "Please give in a character,d\n",
      "s\n",
      "e\n",
      "c\n",
      "r\n",
      "e\n",
      "t\n",
      "w\n",
      "o\n",
      "r\n",
      "d\n",
      "You won !!!\n"
     ]
    }
   ],
   "source": [
    "# This repeats if there are more turns than 0 then sets failed to 0\n",
    "while turns > 0:\n",
    "    failed = 0\n",
    "    #This loop replaces the word and turns into underscore\n",
    "    for char in word:\n",
    "        if char in guesses:\n",
    "            print(char),\n",
    "        else:\n",
    "            print('_')\n",
    "            failed += 1\n",
    "    # If the user gussed underscores you won !\n",
    "    if failed == 0:\n",
    "        print('You won !!!')\n",
    "        break\n",
    "    print\n",
    "    \n",
    "    guess = input('Please give in a character,')\n",
    "    guesses += guess\n",
    "    #If letter not in word subtract 1 turn\n",
    "    if guess not in word:\n",
    "        turns -= 1\n",
    "        print('Wrong!')\n",
    "        print('You have', turns, 'turns')\n",
    "        # If you lost all the turns you lost\n",
    "        if turns == 0:\n",
    "            print('YOU LOSE!!!!!!')"
   ]
  },
  {
   "cell_type": "raw",
   "metadata": {},
   "source": [
    "\n"
   ]
  }
 ],
 "metadata": {
  "kernelspec": {
   "display_name": "Python 3",
   "language": "python",
   "name": "python3"
  },
  "language_info": {
   "codemirror_mode": {
    "name": "ipython",
    "version": 3
   },
   "file_extension": ".py",
   "mimetype": "text/x-python",
   "name": "python",
   "nbconvert_exporter": "python",
   "pygments_lexer": "ipython3",
   "version": "3.6.6"
  }
 },
 "nbformat": 4,
 "nbformat_minor": 2
}
