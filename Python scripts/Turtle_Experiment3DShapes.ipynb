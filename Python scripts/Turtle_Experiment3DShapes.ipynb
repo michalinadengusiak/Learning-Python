{
 "cells": [
  {
   "cell_type": "code",
   "execution_count": null,
   "metadata": {},
   "outputs": [],
   "source": [
    "#Importing modules\n",
    "import turtle\n",
    "import random\n",
    "\n",
    "#defining turtle\n",
    "t = turtle.Pen()\n",
    "turtle.bgcolor(\"black\")\n",
    "t.pencolor(\"purple\")\n",
    "\n",
    "#Deciding how many times it will be run and the x,y center location shapes\n",
    "for n in range(50):\n",
    "    x = random.randrange(-turtle.window_width()//2,\n",
    "                        turtle.window_width()//2)\n",
    "    y = random.randrange(-turtle.window_height()//2,\n",
    "                         turtle.window_height()//2)\n",
    "    \n",
    "    #Making sure we are not drawing when moving to new location\n",
    "    t.penup()\n",
    "    t.setpos(x,y)\n",
    "    t.pendown()\n",
    "    \n",
    "    #When on right place starting to draw\n",
    "    for m in range(x,y):\n",
    "        t.forward(m*2)\n",
    "        t.left(100)"
   ]
  },
  {
   "cell_type": "code",
   "execution_count": null,
   "metadata": {},
   "outputs": [],
   "source": []
  }
 ],
 "metadata": {
  "kernelspec": {
   "display_name": "Python 3",
   "language": "python",
   "name": "python3"
  },
  "language_info": {
   "codemirror_mode": {
    "name": "ipython",
    "version": 3
   },
   "file_extension": ".py",
   "mimetype": "text/x-python",
   "name": "python",
   "nbconvert_exporter": "python",
   "pygments_lexer": "ipython3",
   "version": "3.6.6"
  }
 },
 "nbformat": 4,
 "nbformat_minor": 2
}
